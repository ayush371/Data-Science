Assignment 4:
Machine learning:
1.(C)
2. (D)
3. (C)
4. (A)
5. (C)
6. (B)
7. (C)
8. (B), (C)
9. (A), (D)
10. (A), (B), (D)


SQL Answers:

1. WITH x AS (SELECT `shippedDate`, COUNT(`orderNumber`) AS `total_orders` FROM Orders) SELECT 
AVG(`total_orders`) AS `AverageNumberOfOrdersShipped` FROM x;
2. WITH x AS (SELECT `orderDate`, COUNT(`orderNumber`) AS `total_orders` FROM Orders) SELECT 
AVG(`total_orders`) AS `AverageNumberOfOrdersPlaced` FROM x;
3. SELECT `productName` FROM Products 
ORDER BY MSRP
LIMIT 1;
4. SELECT `productName` FROM Products 
ORDER BY `quantityInStock` DESC LIMIT 1;
5. SELECT `productName`
FROM OrderDetails AS a INNER JOIN Products AS b ON 
a.`productCode` = b.`productCode`
GROUP BY b.`productCode`
ORDER BY COUNT(`orderNumber`) DESC LIMIT 
1;
6. WITH x AS (SELECT customerName, SUM(amount) AS total_payment FROM 
Customers AS a INNER JOIN Payments b
ON a.customerNumber = b.customerNumber 
GROUP BY customerName)
SELECT customerName, total_payment FROM x
WHERE total_payment = (SELECT MAX(total_payment) FROM x);
7. SELECT `customerNumber`, `customerName` FROM Customers 
WHERE `city`= "Melbourne";
8. SELECT `customerName` FROM Customers 
WHERE `customerName` REGEXP `^N*`;
9. SELECT `customerName` FROM Customers
WHERE `phones` REGEXP “^7.*” AND `city` = “Las Vegas”;
10. SELECT `customerName` FROM Customers
WHERE `creditLimit` < 1000 AND `city` IN ("Las Vegas", "Nantes", "Stavern");
11. SELECT `orderNumber` FROMorderDetails 
WHERE `quantityOrdered` < 10;
12. SELECT `orderNumber`
FROM Customers AS a INNER JOIN orders AS b ON a.customerNumber = b.customerNumber WHERE 
`customerName` REGEXP "^B.*";

Statistics Answers:

1. Central Limit Theorem says that with a large sample size, sample means are normally distributed. Normally 
distributed means that a group of numbers follows a bell-shaped curve. Most of the numbers cluster in the 
middle around the average, and there are fewer numbers at the extremes to the right and left.
The central limit theorem states that if you have a population with mean μ and standard deviation σ and take 
sufficiently large random samples from the population with replacement, then the distribution of the sample 
means will be approximately normally distributed.
2. Sampling methods are the ways to choose people from the population to be considered in a sample survey. 
Samples can be divided based on following criteria.
1) Probability samples - In such samples, each population element has a known probability or chance of 
being chosen for the sample.
2) Non-probability samples - In such samples, one cannot be assured of having known probability of each 
population element.
3. Type 1 error, in statistical hypothesis testing, is the error caused by rejecting a null hypothesis when it is true. 
Type II error is the error that occurs when the null hypothesis is accepted when it is not true
4. Normal distribution, also known as the Gaussian distribution, is a probability distribution that is symmetric 
about the mean, showing that data near the mean are more frequent in occurrence than data far from the mean.
5. Correlation is considered the best technique for estimating the quantitative relationship between two variables. 
Correlation measures how strongly two variables are related. Given two random variables, it is the covariance 
between both divided by the product of the two standard deviations of the single variables, hence always 
between -1 and 1.
Covariance is a measure that indicates the extent to which two random variables change in cycle. It explains 
the systematic relation between a pair of random variables, wherein changes in one variable reciprocal by a 
corresponding change in another variable
6.

7.Sensitivity is commonly used to validate the accuracy of a classifier (Logistic, SVM, Random Forest etc.). It 
can be calculated as: TN/(TN+FP). 
8. A hypothesis test evaluates two mutually exclusive statements about a population to determine which 
statement is best supported by the sample data.
Ex : you have a coin and you don’t know whether the coin is fair or not. First, decide null and alternate
hypothesis and alpha=0.05.
H0 : that is a fair coin.
H1 : the coin is not fair



